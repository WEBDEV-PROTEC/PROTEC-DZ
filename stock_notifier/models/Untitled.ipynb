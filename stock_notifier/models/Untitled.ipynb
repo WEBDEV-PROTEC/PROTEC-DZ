{
 "cells": [
  {
   "cell_type": "code",
   "execution_count": 26,
   "id": "bf31ecd1-3d8a-4f87-8274-bcbb6405331a",
   "metadata": {},
   "outputs": [
    {
     "name": "stdout",
     "output_type": "stream",
     "text": [
      "notifications sent\n",
      "Sending notification for products that need restocking.\n",
      "The following products are below the restocking threshold:\n",
      "Product: \n",
      "ST701F MICROWAVE MOTION SENSOR RECESSED FIXTURE 180°, Quantity: 3.0\n",
      "Product:  1TB Hard Drive - 2.5\" Internal - SATA (SATA/600) - 5400rpm Seagate BarraCuda ST1000LM048, Quantity: 4.0\n",
      "Product:  900 PIÈCE D'ANGLE, Quantity: 8.0\n",
      "Product:  ROLINE HDMI High Speed Cable 50 m with Ethernet, M/M - Repeater, Quantity: 4.0\n",
      "Product:  TP-Link UB500 Bluetooth 5.0 Adapter for Desktop Computer/Notebook - USB 2.0, Quantity: 1.0\n",
      "Product: ( EMG-330P + DMS-1) Microphone directionnel electret miniature avec col de cygne + Pied de micro de table, Quantity: 3.0\n",
      "Product: 0,5 meters N-Male to RP-SMA Male Pigtail Cable 2.4GHz, Quantity: 7.0\n",
      "Product: 0T0/4UA/8Z MIX CARTE 4XNUMERIQUE - 8XANALOGIQUE, Quantity: 3.0\n",
      "Product: 100 x AM Tag  HD2105 Type stylo avec attache cable 175MM-16MM, Quantity: 10.0\n",
      "Product: 12.99.1105 VALUE USB 3.2 Gen 1 to Gigabit Ethernet Converter, Quantity: 13.0\n",
      "\n"
     ]
    }
   ],
   "source": [
    "from odoo import api, fields, models\n",
    "\n",
    "location = self.env['stock.location'].search([('name', '=', 'MAG/Stock')], limit=1)\n",
    "products_to_notify = []\n",
    "\n",
    "products_below_threshold = self.env['product.template'].search([\n",
    "    ('qty_available', '<=', 15),  # Adjust the threshold as needed\n",
    "    ('location_id', '=', location.id),\n",
    "])\n",
    "\n",
    "for product in products_below_threshold:\n",
    "    # Only add products with quantity greater than zero\n",
    "    if product.qty_available > 0:\n",
    "        products_to_notify.append({\n",
    "            'name': product.name,\n",
    "            'qty_available': product.qty_available,\n",
    "        })\n",
    "\n",
    "# Check if there are products to notify\n",
    "if products_to_notify:\n",
    "    # Use with_delay to enqueue the job asynchronously\n",
    "    print('notifications sent')\n",
    "    print(\"Sending notification for products that need restocking.\")\n",
    "    channel = self.env['mail.channel'].channel_get([self.env.user.partner_id.id])\n",
    "    channel_id = self.env['mail.channel'].browse(channel[\"id\"])\n",
    "\n",
    "    message_body = \"The following products are below the restocking threshold:\\n\"\n",
    "    for product_info in products_to_notify[:10]:\n",
    "        message_body += f\"Product: {product_info['name']}, Quantity: {product_info['qty_available']}\\n\"\n",
    "    print(message_body)\n"
   ]
  },
  {
   "cell_type": "code",
   "execution_count": 20,
   "id": "f36b17ae-4ad6-4ba3-bc5e-d6cf514e757b",
   "metadata": {},
   "outputs": [
    {
     "name": "stdout",
     "output_type": "stream",
     "text": [
      "Processing product: Ø 40 - 3m CONDUIT RIGIDE PVC NU GRIS CLAIR, Quantity: 0.0\n",
      "Notifications sent\n"
     ]
    }
   ],
   "source": [
    "if products_to_notify:\n",
    "    print(f\"Processing product: {product.name}, Quantity: {product.qty_available}\")\n",
    "    # Use with_delay to enqueue the job asynchronously  # Limit to the first 10 elements\n",
    "    print('Notifications sent')"
   ]
  },
  {
   "cell_type": "code",
   "execution_count": 10,
   "id": "55ef7682-e452-40b5-866b-b07f751f12f4",
   "metadata": {},
   "outputs": [
    {
     "ename": "TypeError",
     "evalue": "_check_stock_and_notify_batch() missing 1 required positional argument: 'product_ids'",
     "output_type": "error",
     "traceback": [
      "\u001b[0;31m---------------------------------------------------------------------------\u001b[0m",
      "\u001b[0;31mTypeError\u001b[0m                                 Traceback (most recent call last)",
      "\u001b[0;32m<ipython-input-10-5aa7cb862411>\u001b[0m in \u001b[0;36m<module>\u001b[0;34m\u001b[0m\n\u001b[1;32m      3\u001b[0m \u001b[0;32mfor\u001b[0m \u001b[0mi\u001b[0m \u001b[0;32min\u001b[0m \u001b[0mrange\u001b[0m\u001b[0;34m(\u001b[0m\u001b[0;36m0\u001b[0m\u001b[0;34m,\u001b[0m \u001b[0mlen\u001b[0m\u001b[0;34m(\u001b[0m\u001b[0mproduct_ids\u001b[0m\u001b[0;34m)\u001b[0m\u001b[0;34m,\u001b[0m \u001b[0mbatch_size\u001b[0m\u001b[0;34m)\u001b[0m\u001b[0;34m:\u001b[0m\u001b[0;34m\u001b[0m\u001b[0;34m\u001b[0m\u001b[0m\n\u001b[1;32m      4\u001b[0m     \u001b[0mbatch_product_ids\u001b[0m \u001b[0;34m=\u001b[0m \u001b[0mproduct_ids\u001b[0m\u001b[0;34m[\u001b[0m\u001b[0mi\u001b[0m\u001b[0;34m:\u001b[0m\u001b[0mi\u001b[0m\u001b[0;34m+\u001b[0m\u001b[0mbatch_size\u001b[0m\u001b[0;34m]\u001b[0m\u001b[0;34m\u001b[0m\u001b[0;34m\u001b[0m\u001b[0m\n\u001b[0;32m----> 5\u001b[0;31m     \u001b[0m_check_stock_and_notify_batch\u001b[0m\u001b[0;34m(\u001b[0m\u001b[0mbatch_product_ids\u001b[0m\u001b[0;34m)\u001b[0m\u001b[0;34m\u001b[0m\u001b[0;34m\u001b[0m\u001b[0m\n\u001b[0m\u001b[1;32m      6\u001b[0m \u001b[0;34m\u001b[0m\u001b[0m\n\u001b[1;32m      7\u001b[0m \u001b[0mprint\u001b[0m\u001b[0;34m(\u001b[0m\u001b[0;34m\"done\"\u001b[0m\u001b[0;34m)\u001b[0m\u001b[0;34m\u001b[0m\u001b[0;34m\u001b[0m\u001b[0m\n",
      "\u001b[0;31mTypeError\u001b[0m: _check_stock_and_notify_batch() missing 1 required positional argument: 'product_ids'"
     ]
    }
   ],
   "source": [
    "product_ids = self.env['product.product'].search([]).ids\n",
    "batch_size = 500\n",
    "for i in range(0, len(product_ids), batch_size):\n",
    "    batch_product_ids = product_ids[i:i+batch_size]\n",
    "    _check_stock_and_notify_batch(batch_product_ids)\n"
   ]
  },
  {
   "cell_type": "code",
   "execution_count": 5,
   "id": "987cd0a0-5a75-4a66-88bf-012baf248b39",
   "metadata": {},
   "outputs": [],
   "source": [
    "def _check_stock_and_notify_batch(self, product_ids):\n",
    "        _logger.info(f\"Processing batch of products: {product_ids}\")        \n",
    "        try:\n",
    "            low_stock_products = self.env['product.product'].read_group(\n",
    "                [('id', 'in', product_ids), ('qty_available', '<=', self.threshold)],\n",
    "                ['qty_available'],\n",
    "                ['default_code'],  # Use the actual field name of the Many2one field in the model\n",
    "                lazy=False\n",
    "            )\n",
    "    \n",
    "            for product_data in low_stock_products:\n",
    "                product_id = product_data['id'][0]\n",
    "                qty_available = product_data.get('qty_available', 0)\n",
    "    \n",
    "                # Check and notify logic\n",
    "                if qty_available <= self.threshold:\n",
    "                    product = self.env['product.product'].browse(product_id)\n",
    "                    _logger.info(f\"Low stock detected for product '{product.name}' ({qty_available} units)\")\n",
    "                    # Customize the notification method according to your needs\n",
    "                    # Example: You can use the 'mail' module to send an email.\n",
    "                    self.env['mail.thread'].message_post(\n",
    "                        body=f\"Le produit '{product.name}' est faible en stock , seulement ({product.qty_available} pieces restants!).\",\n",
    "                        subject='Low Stock Notification',\n",
    "                        subtype='mail.mt_comment',\n",
    "                        partner_ids=[(4, user.id) for user in product.message_follower_ids],\n",
    "                    )\n",
    "            _logger.info(f\"Finished processing batch of products: {product_ids}\")\n",
    "            \n",
    "        except Exception as e:\n",
    "            _logger.error(f\"Error during batch processing: {e}\")\n",
    "            _logger.info(\"After processing batch\")"
   ]
  },
  {
   "cell_type": "code",
   "execution_count": null,
   "id": "f189b9ad-6978-4578-a70d-6a997d4ed4a7",
   "metadata": {},
   "outputs": [],
   "source": []
  }
 ],
 "metadata": {
  "kernelspec": {
   "display_name": "Odoo-shell",
   "language": "",
   "name": "odoo"
  },
  "language_info": {
   "codemirror_mode": {
    "name": "ipython",
    "version": 3
   },
   "file_extension": ".py",
   "mimetype": "text/x-python",
   "name": "python",
   "nbconvert_exporter": "python",
   "pygments_lexer": "ipython3",
   "version": "3.8.10"
  }
 },
 "nbformat": 4,
 "nbformat_minor": 5
}
